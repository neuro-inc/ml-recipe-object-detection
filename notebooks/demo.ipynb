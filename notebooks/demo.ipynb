{
 "cells": [
  {
   "cell_type": "markdown",
   "metadata": {},
   "source": [
    "# HOW TO ADD A NEW CLASS TO OBJECT DETECTION PIPELINE?"
   ]
  },
  {
   "cell_type": "code",
   "execution_count": null,
   "metadata": {},
   "outputs": [],
   "source": [
    "## Uncomment command below to kill current job:\n",
    "#!neuro kill $(hostname)"
   ]
  },
  {
   "cell_type": "code",
   "execution_count": null,
   "metadata": {},
   "outputs": [],
   "source": [
    "%load_ext autoreload\n",
    "%autoreload 2\n",
    "\n",
    "import sys\n",
    "sys.path.append('../')\n",
    "from detection.model import get_model\n",
    "from detection.coco_subset import CLS_SELECT, COLORS, N_COCO_CLASSES\n",
    "from detection.dataset import get_transform\n",
    "from detection.visualisation import show_legend, predict_and_show\n",
    "from detection.train import train\n",
    "import torch\n",
    "from pathlib import Path\n",
    "from random import choice\n",
    "from PIL import Image\n",
    "from torchvision.models.detection.faster_rcnn import FastRCNNPredictor"
   ]
  },
  {
   "cell_type": "markdown",
   "metadata": {},
   "source": [
    "## Downloading the dataset"
   ]
  },
  {
   "cell_type": "code",
   "execution_count": null,
   "metadata": {},
   "outputs": [],
   "source": [
    "! [ ! -f ../data/coco-retail.zip ] && wget http://data.neu.ro/coco-retail.zip -O ../data/coco-retail.zip"
   ]
  },
  {
   "cell_type": "code",
   "execution_count": null,
   "metadata": {},
   "outputs": [],
   "source": [
    "! [ ! -d ../data/coco ] && unzip -q ../data/coco-retail.zip -d ../data"
   ]
  },
  {
   "cell_type": "markdown",
   "metadata": {},
   "source": [
    "## Dataset overview"
   ]
  },
  {
   "cell_type": "markdown",
   "metadata": {},
   "source": [
    "We took **25 classes** from COCO-dataset which can be seen on the shelves as retail products.\n",
    "Since our goal is show how new category can be added to detection pipeline \n",
    "(without long training process), \n",
    "we work with only 100 photos and don't make any train/val split. \n",
    "Of course, with these settings, the model will be prone to over-fitting, \n",
    "but training on the whole dataset will take too much time."
   ]
  },
  {
   "cell_type": "code",
   "execution_count": null,
   "metadata": {},
   "outputs": [],
   "source": [
    "data_dir = Path('../data/coco/mini_coco/')"
   ]
  },
  {
   "cell_type": "code",
   "execution_count": null,
   "metadata": {},
   "outputs": [],
   "source": [
    "show_legend(list(CLS_SELECT.keys()), COLORS)"
   ]
  },
  {
   "cell_type": "markdown",
   "metadata": {},
   "source": [
    "## Evaluation of model, trained on 24 classes"
   ]
  },
  {
   "cell_type": "markdown",
   "metadata": {},
   "source": [
    "Let's load our model, trained on 24 classes (without class #25 - **sport ball**)."
   ]
  },
  {
   "cell_type": "code",
   "execution_count": null,
   "metadata": {},
   "outputs": [],
   "source": [
    "device = torch.device('cuda:0') if torch.cuda.is_available() else torch.device('cpu')\n",
    "print(device)"
   ]
  },
  {
   "cell_type": "code",
   "execution_count": null,
   "metadata": {},
   "outputs": [],
   "source": [
    "path_to_ckpt = '../data/coco/weights/24_classes.ckpt'\n",
    "\n",
    "model = get_model(n_classes=N_COCO_CLASSES - 1)\n",
    "model.load_state_dict(torch.load(path_to_ckpt, map_location=device))\n",
    "model.eval();"
   ]
  },
  {
   "cell_type": "markdown",
   "metadata": {},
   "source": [
    "Now let's make sure that the model can't recognize the 25'th class."
   ]
  },
  {
   "cell_type": "code",
   "execution_count": null,
   "metadata": {},
   "outputs": [],
   "source": [
    "def get_im_with_extra_class():\n",
    "\n",
    "    images_with_extra_class = [\n",
    "        '000000091595.jpg', '000000331474.jpg', '000000371042.jpg',\n",
    "        '000000209027.jpg', '000000032611.jpg', '000000002139.jpg',\n",
    "        '000000050407.jpg', '000000345466.jpg', '000000465530.jpg'\n",
    "    ]\n",
    "    \n",
    "    im_path = data_dir / 'train' / 'images' / choice(images_with_extra_class)\n",
    "    \n",
    "    im_pil = Image.open(im_path)\n",
    "    im_tensor, _ = get_transform(False)(im_pil, None)\n",
    "    \n",
    "    print(im_path.name)\n",
    "    return im_pil, im_tensor"
   ]
  },
  {
   "cell_type": "code",
   "execution_count": null,
   "metadata": {},
   "outputs": [],
   "source": [
    "im_pil, im_tensor = get_im_with_extra_class()\n",
    "# Note: on CPU, inference of an image takes around 1 minute\n",
    "predict_and_show(model.to(device), im_pil, im_tensor.to(device))"
   ]
  },
  {
   "cell_type": "markdown",
   "metadata": {},
   "source": [
    "## Add 25'th class"
   ]
  },
  {
   "cell_type": "markdown",
   "metadata": {},
   "source": [
    "The simplest way to add new classes includes 2 steps:\n",
    "* Increasing the number of output logits; \n",
    "* Training / fine-tuning process."
   ]
  },
  {
   "cell_type": "code",
   "execution_count": null,
   "metadata": {
    "scrolled": true
   },
   "outputs": [],
   "source": [
    "# Now we can train our model or load it from prepared checkpoint\n",
    "\n",
    "want_finetune = False\n",
    "\n",
    "if want_finetune:\n",
    "    # fine-tune previous model\n",
    "    model_ext = get_model(n_classes=N_COCO_CLASSES - 1).to(device)\n",
    "    model_ext.load_state_dict(torch.load(path_to_ckpt, map_location=device))\n",
    "    n_features = model_ext.roi_heads.box_predictor.cls_score.in_features\n",
    "    model_ext.roi_heads.box_predictor = FastRCNNPredictor(n_features, N_COCO_CLASSES)\n",
    "    \n",
    "    train(model=model_ext, data_dir=data_dir, prev_ckpt=None, n_epoch=50,\n",
    "          batch_size=2, n_workers=4, ignore_labels=(), need_save=False)\n",
    "\n",
    "else:\n",
    "    # load from ckpt\n",
    "    path_to_ckpt_ext = '../data/coco/weights/25_classes.ckpt'\n",
    "    model_ext = get_model(n_classes=N_COCO_CLASSES)\n",
    "    model_ext.load_state_dict(torch.load(path_to_ckpt_ext, map_location=device))\n",
    "    "
   ]
  },
  {
   "cell_type": "markdown",
   "metadata": {},
   "source": [
    "Let's check that our model can now recognize the added 25'th class."
   ]
  },
  {
   "cell_type": "code",
   "execution_count": null,
   "metadata": {},
   "outputs": [],
   "source": [
    "im_pil, im_tensor = get_im_with_extra_class()\n",
    "\n",
    "predict_and_show(model_ext.to(device), im_pil, im_tensor.to(device))"
   ]
  }
 ],
 "metadata": {
  "kernelspec": {
   "display_name": "Python 3",
   "language": "python",
   "name": "python3"
  },
  "language_info": {
   "codemirror_mode": {
    "name": "ipython",
    "version": 3
   },
   "file_extension": ".py",
   "mimetype": "text/x-python",
   "name": "python",
   "nbconvert_exporter": "python",
   "pygments_lexer": "ipython3",
   "version": "3.6.8"
  },
  "pycharm": {
   "stem_cell": {
    "cell_type": "raw",
    "metadata": {
     "collapsed": false
    },
    "source": []
   }
  }
 },
 "nbformat": 4,
 "nbformat_minor": 1
}
